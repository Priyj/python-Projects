{
 "cells": [
  {
   "cell_type": "code",
   "execution_count": null,
   "id": "acd5b6a3",
   "metadata": {},
   "outputs": [],
   "source": [
    "import pygame\n",
    "import tkinter as tk\n",
    "from tkinter.filedialog import askdirectory\n",
    "import os\n",
    "\n",
    "p = tk.Tk()\n",
    "p.title(\"Music Player\")\n",
    "p.geometry(\"310x325\")\n",
    "\n",
    "v = tk.StringVar()\n",
    "v.set(\"Select the song to play\")\n",
    "\n",
    "os.chdir(askdirectory())\n",
    "song_list = os.listdir()\n",
    "\n",
    "playing = tk.Listbox(p, font=\"Helvetica 12 bold\", width=28, bg=\"black\", fg=\"white\", selectmode=tk.SINGLE)\n",
    "\n",
    "for item in song_list:\n",
    "    playing.insert(0, item)\n",
    "\n",
    "pygame.init()\n",
    "pygame.mixer.init()\n",
    "\n",
    "def play():\n",
    "    pygame.mixer.music.load(playing.get(tk.ACTIVE))\n",
    "    name = playing.get(tk.ACTIVE)\n",
    "    v.set(f\"{name[:16]}...\" if len(name) > 18 else name)\n",
    "    pygame.mixer.music.play()\n",
    "\n",
    "def pause():\n",
    "    pygame.mixer.music.pause()\n",
    "\n",
    "def resume():\n",
    "    pygame.mixer.music.unpause()\n",
    "\n",
    "text = tk.Label(p, font=\"Helvetica\", textvariable=v).grid(row=0, columnspan=3)\n",
    "playing.grid(columnspan=3)\n",
    "\n",
    "play_btn = tk.Button(p, width=7, height=1, font=\"Helvetica\", text=\"Play\", command=play, bg=\"lightgreen\").grid(row=2, column=0)\n",
    "pause_btn = tk.Button(p, width=7, height=1, font=\"Helvetica\", text=\"Pause\", command=pause, bg=\"lightblue\", fg=\"black\").grid(row=2, column=1)\n",
    "resume_btn = tk.Button(p, width=9, height=1, font=\"Helvetica\", text=\"Resume\", command=resume, bg=\"lightpink\", fg=\"black\").grid(row=2, column=2)\n",
    "\n",
    "p.mainloop()\n"
   ]
  }
 ],
 "metadata": {
  "kernelspec": {
   "display_name": "Python 3 (ipykernel)",
   "language": "python",
   "name": "python3"
  },
  "language_info": {
   "codemirror_mode": {
    "name": "ipython",
    "version": 3
   },
   "file_extension": ".py",
   "mimetype": "text/x-python",
   "name": "python",
   "nbconvert_exporter": "python",
   "pygments_lexer": "ipython3",
   "version": "3.11.4"
  }
 },
 "nbformat": 4,
 "nbformat_minor": 5
}
